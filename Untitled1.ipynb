{
 "cells": [
  {
   "cell_type": "code",
   "execution_count": 1,
   "metadata": {},
   "outputs": [
    {
     "name": "stdout",
     "output_type": "stream",
     "text": [
      "ssssssssssssssssssss\n",
      "PSO is optimizing  \"FN1\"\n",
      "['At iteration1 the best fitness on trainig is:0.119401319308, the best number of features: 40']\n"
     ]
    },
    {
     "ename": "NameError",
     "evalue": "global name 'gbest' is not defined",
     "output_type": "error",
     "traceback": [
      "\u001b[1;31m---------------------------------------------------------------------------\u001b[0m",
      "\u001b[1;31mNameError\u001b[0m                                 Traceback (most recent call last)",
      "\u001b[1;32m<ipython-input-1-6aa01296d616>\u001b[0m in \u001b[0;36m<module>\u001b[1;34m()\u001b[0m\n\u001b[0;32m     70\u001b[0m                 \u001b[0mfunc_details\u001b[0m\u001b[1;33m=\u001b[0m\u001b[0mfitnessFUNs\u001b[0m\u001b[1;33m.\u001b[0m\u001b[0mgetFunctionDetails\u001b[0m\u001b[1;33m(\u001b[0m\u001b[1;36m0\u001b[0m\u001b[1;33m)\u001b[0m\u001b[1;33m\u001b[0m\u001b[0m\n\u001b[0;32m     71\u001b[0m                 \u001b[0mcompleteData\u001b[0m\u001b[1;33m=\u001b[0m\u001b[0mdatasets\u001b[0m\u001b[1;33m[\u001b[0m\u001b[0mj\u001b[0m\u001b[1;33m]\u001b[0m\u001b[1;33m+\u001b[0m\u001b[1;34m\".csv\"\u001b[0m\u001b[1;33m\u001b[0m\u001b[0m\n\u001b[1;32m---> 72\u001b[1;33m                 \u001b[0mx\u001b[0m\u001b[1;33m=\u001b[0m\u001b[0mslctr\u001b[0m\u001b[1;33m.\u001b[0m\u001b[0mselector\u001b[0m\u001b[1;33m(\u001b[0m\u001b[0mi\u001b[0m\u001b[1;33m,\u001b[0m\u001b[0mfunc_details\u001b[0m\u001b[1;33m,\u001b[0m\u001b[0mPopulationSize\u001b[0m\u001b[1;33m,\u001b[0m\u001b[0mIterations\u001b[0m\u001b[1;33m,\u001b[0m\u001b[0mcompleteData\u001b[0m\u001b[1;33m)\u001b[0m\u001b[1;33m\u001b[0m\u001b[0m\n\u001b[0m\u001b[0;32m     73\u001b[0m \u001b[1;33m\u001b[0m\u001b[0m\n\u001b[0;32m     74\u001b[0m                 \u001b[1;32mif\u001b[0m\u001b[1;33m(\u001b[0m\u001b[0mExport\u001b[0m\u001b[1;33m==\u001b[0m\u001b[0mTrue\u001b[0m\u001b[1;33m)\u001b[0m\u001b[1;33m:\u001b[0m\u001b[1;33m\u001b[0m\u001b[0m\n",
      "\u001b[1;32mC:\\Users\\kiruba\\Desktop\\Project\\phase 2\\EvoloPy-FS-master\\EvoloPy-FS-master\\selector.pyc\u001b[0m in \u001b[0;36mselector\u001b[1;34m(algo, func_details, popSize, Iter, completeData)\u001b[0m\n\u001b[0;32m     54\u001b[0m \u001b[1;33m\u001b[0m\u001b[0m\n\u001b[0;32m     55\u001b[0m     \u001b[1;32mif\u001b[0m\u001b[1;33m(\u001b[0m\u001b[0malgo\u001b[0m\u001b[1;33m==\u001b[0m\u001b[1;36m0\u001b[0m\u001b[1;33m)\u001b[0m\u001b[1;33m:\u001b[0m\u001b[1;33m\u001b[0m\u001b[0m\n\u001b[1;32m---> 56\u001b[1;33m         \u001b[0mx\u001b[0m\u001b[1;33m=\u001b[0m\u001b[0mpso\u001b[0m\u001b[1;33m.\u001b[0m\u001b[0mPSO\u001b[0m\u001b[1;33m(\u001b[0m\u001b[0mgetattr\u001b[0m\u001b[1;33m(\u001b[0m\u001b[0mfitnessFUNs\u001b[0m\u001b[1;33m,\u001b[0m \u001b[0mfunction_name\u001b[0m\u001b[1;33m)\u001b[0m\u001b[1;33m,\u001b[0m\u001b[0mlb\u001b[0m\u001b[1;33m,\u001b[0m\u001b[0mub\u001b[0m\u001b[1;33m,\u001b[0m\u001b[0mdim\u001b[0m\u001b[1;33m,\u001b[0m\u001b[0mpopSize\u001b[0m\u001b[1;33m,\u001b[0m\u001b[0mIter\u001b[0m\u001b[1;33m,\u001b[0m\u001b[0mtrainInput\u001b[0m\u001b[1;33m,\u001b[0m\u001b[0mtrainOutput\u001b[0m\u001b[1;33m)\u001b[0m\u001b[1;33m\u001b[0m\u001b[0m\n\u001b[0m\u001b[0;32m     57\u001b[0m     \u001b[1;32mif\u001b[0m\u001b[1;33m(\u001b[0m\u001b[0malgo\u001b[0m\u001b[1;33m==\u001b[0m\u001b[1;36m1\u001b[0m\u001b[1;33m)\u001b[0m\u001b[1;33m:\u001b[0m\u001b[1;33m\u001b[0m\u001b[0m\n\u001b[0;32m     58\u001b[0m         \u001b[0mx\u001b[0m\u001b[1;33m=\u001b[0m\u001b[0mmvo\u001b[0m\u001b[1;33m.\u001b[0m\u001b[0mMVO\u001b[0m\u001b[1;33m(\u001b[0m\u001b[0mgetattr\u001b[0m\u001b[1;33m(\u001b[0m\u001b[0mfitnessFUNs\u001b[0m\u001b[1;33m,\u001b[0m \u001b[0mfunction_name\u001b[0m\u001b[1;33m)\u001b[0m\u001b[1;33m,\u001b[0m\u001b[0mlb\u001b[0m\u001b[1;33m,\u001b[0m\u001b[0mub\u001b[0m\u001b[1;33m,\u001b[0m\u001b[0mdim\u001b[0m\u001b[1;33m,\u001b[0m\u001b[0mpopSize\u001b[0m\u001b[1;33m,\u001b[0m\u001b[0mIter\u001b[0m\u001b[1;33m,\u001b[0m\u001b[0mtrainInput\u001b[0m\u001b[1;33m,\u001b[0m\u001b[0mtrainOutput\u001b[0m\u001b[1;33m)\u001b[0m\u001b[1;33m\u001b[0m\u001b[0m\n",
      "\u001b[1;32mC:\\Users\\kiruba\\Desktop\\Project\\phase 2\\EvoloPy-FS-master\\EvoloPy-FS-master\\PSO.py\u001b[0m in \u001b[0;36mPSO\u001b[1;34m(objf, lb, ub, dim, PopSize, iters, trainInput, trainOutput)\u001b[0m\n\u001b[0;32m    104\u001b[0m \u001b[1;33m\u001b[0m\u001b[0m\n\u001b[0;32m    105\u001b[0m           \u001b[1;32mprint\u001b[0m\u001b[1;33m(\u001b[0m\u001b[1;33m[\u001b[0m\u001b[1;34m'At iteration'\u001b[0m\u001b[1;33m+\u001b[0m \u001b[0mstr\u001b[0m\u001b[1;33m(\u001b[0m\u001b[0ml\u001b[0m\u001b[1;33m+\u001b[0m\u001b[1;36m1\u001b[0m\u001b[1;33m)\u001b[0m\u001b[1;33m+\u001b[0m\u001b[1;34m' the best fitness on trainig is:'\u001b[0m\u001b[1;33m+\u001b[0m \u001b[0mstr\u001b[0m\u001b[1;33m(\u001b[0m\u001b[0mgBestScore\u001b[0m\u001b[1;33m)\u001b[0m\u001b[1;33m+\u001b[0m\u001b[1;34m', the best number of features: '\u001b[0m\u001b[1;33m+\u001b[0m\u001b[0mstr\u001b[0m\u001b[1;33m(\u001b[0m\u001b[0mfeaturecount\u001b[0m\u001b[1;33m)\u001b[0m\u001b[1;33m]\u001b[0m\u001b[1;33m)\u001b[0m\u001b[1;33m;\u001b[0m\u001b[1;33m\u001b[0m\u001b[0m\n\u001b[1;32m--> 106\u001b[1;33m           \u001b[1;32mprint\u001b[0m\u001b[1;33m(\u001b[0m\u001b[1;34m'alpha:'\u001b[0m\u001b[1;33m,\u001b[0m\u001b[0mnumpy\u001b[0m\u001b[1;33m.\u001b[0m\u001b[0mwhere\u001b[0m\u001b[1;33m(\u001b[0m\u001b[0mgbest\u001b[0m\u001b[1;33m>\u001b[0m\u001b[1;36m0.5\u001b[0m\u001b[1;33m)\u001b[0m\u001b[1;33m[\u001b[0m\u001b[1;36m0\u001b[0m\u001b[1;33m]\u001b[0m\u001b[1;33m)\u001b[0m\u001b[1;33m\u001b[0m\u001b[0m\n\u001b[0m\u001b[0;32m    107\u001b[0m \u001b[1;31m#\u001b[0m\u001b[1;33m\u001b[0m\u001b[1;33m\u001b[0m\u001b[0m\n\u001b[0;32m    108\u001b[0m \u001b[1;33m\u001b[0m\u001b[0m\n",
      "\u001b[1;31mNameError\u001b[0m: global name 'gbest' is not defined"
     ]
    }
   ],
   "source": [
    "\"\"\"\n",
    "Created on Tue Dec 27 12:46:20 2019\n",
    "\n",
    "@author: Ibrahim Aljarah, and Ruba Abu Khurma \n",
    "\"\"\"\n",
    "\n",
    "import csv\n",
    "import numpy\n",
    "import time\n",
    "import selector as slctr\n",
    "from sklearn.model_selection import train_test_split\n",
    "import pandas as pd\n",
    "import fitnessFUNs\n",
    "\n",
    "# Select optimizers\n",
    "PSO= False\n",
    "MVO= False\n",
    "GWO = True\n",
    "MFO= False\n",
    "WOA= False\n",
    "FFA=False\n",
    "BAT=False\n",
    "\n",
    "\n",
    "\n",
    "\n",
    "optimizer=[PSO, MVO, GWO, MFO, WOA,FFA,BAT]\n",
    "datasets=[\"phisipclean\"]\n",
    "#benchmarkfunc=[Fs1,Fs2,Fs3,Fs4,Fs5,Fs6,Fs7,Fs8,Fs9,Fs10] \n",
    "        \n",
    "# Select number of repetitions for each experiment. \n",
    "# To obtain meaningful statistical results, usually 30 independent runs \n",
    "# are executed for each algorithm.\n",
    "NumOfRuns=1\n",
    "\n",
    "# Select general parameters for all optimizers (population size, number of iterations)\n",
    "PopulationSize = 20\n",
    "Iterations= 20\n",
    "\n",
    "#Export results ?\n",
    "Export=True\n",
    "\n",
    "\n",
    "#ExportToFile=\"YourResultsAreHere.csv\"\n",
    "#Automaticly generated file name by date and time\n",
    "ExportToFile=\"experiment\"+time.strftime(\"%Y-%m-%d-%H-%M-%S\")+\".csv\" \n",
    "\n",
    "# Check if it works at least once\n",
    "Flag=False\n",
    "\n",
    "# CSV Header for for the cinvergence \n",
    "CnvgHeader1=[]\n",
    "CnvgHeader2=[]\n",
    "\n",
    "\n",
    "for l in range(0,Iterations):\n",
    "\tCnvgHeader1.append(\"Iter\"+str(l+1))\n",
    "\n",
    "for l in range(0,Iterations):\n",
    "\tCnvgHeader2.append(\"Iter\"+str(l+1))\n",
    "\n",
    "\n",
    "for j in range (0, len(datasets)):        # specfiy the number of the datasets\n",
    "    for i in range (0, len(optimizer)):\n",
    "    \n",
    "        if((optimizer[i]==True)): # start experiment if an optimizer and an objective function is selected\n",
    "            for k in range (0,NumOfRuns):\n",
    "                \n",
    "                #func_details=[\"costNN\",-1,1]\n",
    "                func_details=fitnessFUNs.getFunctionDetails(0)\n",
    "                completeData=datasets[j]+\".csv\"\n",
    "                x=slctr.selector(i,func_details,PopulationSize,Iterations,completeData)\n",
    "                  \n",
    "                if(Export==True):\n",
    "                    with open(ExportToFile, 'a',newline='\\n') as out:\n",
    "                        writer = csv.writer(out,delimiter=',')\n",
    "                        if (Flag==False): # just one time to write the header of the CSV file\n",
    "                            header= numpy.concatenate([[\"Optimizer\",\"Dataset\",\"objfname\",\"Experiment\",\"startTime\",\"EndTime\",\"ExecutionTime\",\"trainAcc\",\"testAcc\"],CnvgHeader1,CnvgHeader1])\n",
    "                            writer.writerow(header)\n",
    "                        a=numpy.concatenate([[x.optimizer,datasets[j],x.objfname,k+1,x.startTime,x.endTime,x.executionTime,x.trainAcc,x.testAcc],x.convergence1,x.convergence2])\n",
    "                        writer.writerow(a)\n",
    "                    out.close()\n",
    "                Flag=True # at least one experiment\n",
    "                \n",
    "if (Flag==False): # Faild to run at least one experiment\n",
    "    print(\"No Optomizer or Cost function is selected. Check lists of available optimizers and cost functions\") \n",
    "        \n",
    "        \n"
   ]
  },
  {
   "cell_type": "code",
   "execution_count": null,
   "metadata": {
    "collapsed": true
   },
   "outputs": [],
   "source": []
  }
 ],
 "metadata": {
  "kernelspec": {
   "display_name": "Python 3 (ipykernel)",
   "language": "python",
   "name": "python3"
  },
  "language_info": {
   "codemirror_mode": {
    "name": "ipython",
    "version": 3
   },
   "file_extension": ".py",
   "mimetype": "text/x-python",
   "name": "python",
   "nbconvert_exporter": "python",
   "pygments_lexer": "ipython3",
   "version": "3.9.12"
  }
 },
 "nbformat": 4,
 "nbformat_minor": 2
}
